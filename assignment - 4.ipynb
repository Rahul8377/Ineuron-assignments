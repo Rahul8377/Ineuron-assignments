{
 "cells": [
  {
   "cell_type": "markdown",
   "id": "de0c229c",
   "metadata": {},
   "source": [
    "# 1. What exactly is []?"
   ]
  },
  {
   "cell_type": "code",
   "execution_count": null,
   "id": "566ca8b6",
   "metadata": {},
   "outputs": [],
   "source": [
    "This shows blank list."
   ]
  },
  {
   "cell_type": "markdown",
   "id": "45ee1955",
   "metadata": {},
   "source": [
    "# 2. In a list of values stored in a variable called spam, how would you assign the value \"hello\" as the third value? (Assume [2, 4, 6, 8, 10] are in spam.)"
   ]
  },
  {
   "cell_type": "code",
   "execution_count": 1,
   "id": "5cc98ad6",
   "metadata": {},
   "outputs": [],
   "source": [
    "spam = [2,4,6,8,10]"
   ]
  },
  {
   "cell_type": "code",
   "execution_count": 23,
   "id": "04e3724c",
   "metadata": {},
   "outputs": [
    {
     "data": {
      "text/plain": [
       "[2, 4, 'hello', 8, 10]"
      ]
     },
     "execution_count": 23,
     "metadata": {},
     "output_type": "execute_result"
    }
   ],
   "source": [
    "spam[2] = 'hello'\n",
    "spam"
   ]
  },
  {
   "cell_type": "code",
   "execution_count": null,
   "id": "ff7299d1",
   "metadata": {},
   "outputs": [],
   "source": [
    "we can also use insert() method."
   ]
  },
  {
   "cell_type": "markdown",
   "id": "f75228ec",
   "metadata": {},
   "source": [
    "# Let's pretend the spam includes the list ['a', 'b', 'c', 'd'] for the next three queries.\n"
   ]
  },
  {
   "cell_type": "markdown",
   "id": "81014ad6",
   "metadata": {},
   "source": [
    "# 3. What is the value of spam[int(int('3' * 2) / 11)]?"
   ]
  },
  {
   "cell_type": "code",
   "execution_count": 25,
   "id": "9b33b42b",
   "metadata": {},
   "outputs": [
    {
     "data": {
      "text/plain": [
       "'d'"
      ]
     },
     "execution_count": 25,
     "metadata": {},
     "output_type": "execute_result"
    }
   ],
   "source": [
    "spam = ['a', 'b','c','d']\n",
    "spam[int(int('3' * 2) / 11)]"
   ]
  },
  {
   "cell_type": "markdown",
   "id": "5d4dba92",
   "metadata": {},
   "source": [
    "# 4. What is the value of spam[-1]?"
   ]
  },
  {
   "cell_type": "code",
   "execution_count": 26,
   "id": "ca2c2c88",
   "metadata": {},
   "outputs": [
    {
     "data": {
      "text/plain": [
       "'d'"
      ]
     },
     "execution_count": 26,
     "metadata": {},
     "output_type": "execute_result"
    }
   ],
   "source": [
    "spam = ['a', 'b','c','d']\n",
    "spam[-1]"
   ]
  },
  {
   "cell_type": "markdown",
   "id": "c35748ce",
   "metadata": {},
   "source": [
    "# 5. What is the value of spam[:2]?"
   ]
  },
  {
   "cell_type": "code",
   "execution_count": 1,
   "id": "4ad2c577",
   "metadata": {},
   "outputs": [
    {
     "data": {
      "text/plain": [
       "['a', 'b']"
      ]
     },
     "execution_count": 1,
     "metadata": {},
     "output_type": "execute_result"
    }
   ],
   "source": [
    "spam = ['a', 'b','c','d']\n",
    "spam[:2]\n"
   ]
  },
  {
   "cell_type": "markdown",
   "id": "a9b04676",
   "metadata": {},
   "source": [
    "# Let's pretend bacon has the list [3.14, 'cat,' 11, 'cat,' True] for the next three questions."
   ]
  },
  {
   "cell_type": "markdown",
   "id": "42205602",
   "metadata": {},
   "source": [
    "# 6. What is the value of bacon.index('cat')?"
   ]
  },
  {
   "cell_type": "code",
   "execution_count": 2,
   "id": "1eab979d",
   "metadata": {},
   "outputs": [
    {
     "data": {
      "text/plain": [
       "1"
      ]
     },
     "execution_count": 2,
     "metadata": {},
     "output_type": "execute_result"
    }
   ],
   "source": [
    "bacon = [3.14, 'cat', 11, 'cat', True]\n",
    "bacon.index('cat') "
   ]
  },
  {
   "cell_type": "markdown",
   "id": "7b817918",
   "metadata": {},
   "source": [
    "# 7. How does bacon.append(99) change the look of the list value in bacon?"
   ]
  },
  {
   "cell_type": "code",
   "execution_count": 3,
   "id": "d607781b",
   "metadata": {},
   "outputs": [
    {
     "data": {
      "text/plain": [
       "[3.14, 'cat', 11, 'cat', True, 99]"
      ]
     },
     "execution_count": 3,
     "metadata": {},
     "output_type": "execute_result"
    }
   ],
   "source": [
    "bacon = [3.14, 'cat', 11, 'cat', True]\n",
    "bacon.append(99) \n",
    "bacon"
   ]
  },
  {
   "cell_type": "markdown",
   "id": "bf9a880a",
   "metadata": {},
   "source": [
    "# 8. How does bacon.remove('cat') change the look of the list in bacon?"
   ]
  },
  {
   "cell_type": "code",
   "execution_count": 4,
   "id": "84313a7c",
   "metadata": {},
   "outputs": [
    {
     "data": {
      "text/plain": [
       "[3.14, 11, 'cat', True]"
      ]
     },
     "execution_count": 4,
     "metadata": {},
     "output_type": "execute_result"
    }
   ],
   "source": [
    "bacon = [3.14, 'cat', 11, 'cat', True]\n",
    "bacon.remove('cat') \n",
    "bacon"
   ]
  },
  {
   "cell_type": "markdown",
   "id": "7c0ee020",
   "metadata": {},
   "source": [
    "# 9. What are the list concatenation and list replication operators?"
   ]
  },
  {
   "cell_type": "code",
   "execution_count": 6,
   "id": "8fc37b9f",
   "metadata": {},
   "outputs": [
    {
     "name": "stdout",
     "output_type": "stream",
     "text": [
      "[1, 2, 3, 4, 5, 6, 7, 8, 9]\n"
     ]
    }
   ],
   "source": [
    "#we uses + for list concatenation as a concatenation operator\n",
    "\n",
    "list1=[1,2,3,4,5]\n",
    "list2=[6,7,8,9]\n",
    "list3 = list1+list2\n",
    "print(list3)"
   ]
  },
  {
   "cell_type": "code",
   "execution_count": 7,
   "id": "7bedcc17",
   "metadata": {},
   "outputs": [
    {
     "data": {
      "text/plain": [
       "[3, 2, 1, 3, 2, 1, 3, 2, 1]"
      ]
     },
     "execution_count": 7,
     "metadata": {},
     "output_type": "execute_result"
    }
   ],
   "source": [
    "# we uses * for list replication operators\n",
    "\n",
    "l1=[3,2,1]\n",
    "l1*3"
   ]
  },
  {
   "cell_type": "markdown",
   "id": "fc605cc0",
   "metadata": {},
   "source": [
    "# 10. What is difference between the list methods append() and insert()?"
   ]
  },
  {
   "cell_type": "code",
   "execution_count": 8,
   "id": "759895bd",
   "metadata": {},
   "outputs": [
    {
     "data": {
      "text/plain": [
       "[1, 2, 3, 4, 'rahul', 100]"
      ]
     },
     "execution_count": 8,
     "metadata": {},
     "output_type": "execute_result"
    }
   ],
   "source": [
    "#Append adds an element at the end of the list.\n",
    "\n",
    "#Syntax:\n",
    "\n",
    "#list_name.append(element)\n",
    "\n",
    "\n",
    "list1=[1,2,3,4,\"rahul\"]\n",
    "list1.append(100)\n",
    "list1"
   ]
  },
  {
   "cell_type": "code",
   "execution_count": 9,
   "id": "9e3ae61b",
   "metadata": {},
   "outputs": [
    {
     "data": {
      "text/plain": [
       "[1, 2, 4, 3, 5]"
      ]
     },
     "execution_count": 9,
     "metadata": {},
     "output_type": "execute_result"
    }
   ],
   "source": [
    "#Insert method can be used to insert a value at any desired position. It takes two arguments-element and the index at which the element has to be inserted.\n",
    "\n",
    "#Syntax:\n",
    "\n",
    "#list_name(index,element)\n",
    "\n",
    "list1=[1,2,3,5]\n",
    "list1.insert(2,4)\n",
    "list1\n"
   ]
  },
  {
   "cell_type": "markdown",
   "id": "a39bd27d",
   "metadata": {},
   "source": [
    "# 11. What are the two methods for removing items from a list?"
   ]
  },
  {
   "cell_type": "code",
   "execution_count": 10,
   "id": "4cc233bf",
   "metadata": {},
   "outputs": [
    {
     "name": "stdout",
     "output_type": "stream",
     "text": [
      "[1, 2, 3, 4, 5, 34.45]\n"
     ]
    }
   ],
   "source": [
    "#remove() :- This function is used to delete the first occurrence of number mentioned in its arguments.\n",
    "\n",
    "list1=[1,2,3,4,5,\"rahul\",34.45]\n",
    "list1.remove(\"rahul\")\n",
    "print(list1)"
   ]
  },
  {
   "cell_type": "code",
   "execution_count": 14,
   "id": "7ae30898",
   "metadata": {},
   "outputs": [
    {
     "data": {
      "text/plain": [
       "[1, 2, 3, 4, 5, 6]"
      ]
     },
     "execution_count": 14,
     "metadata": {},
     "output_type": "execute_result"
    }
   ],
   "source": [
    "#pop() :- This method deletes the element at the position mentioned in its arguments.\n",
    "\n",
    "list1=[1,2,\"rahul\",3,4,5,6]\n",
    "list1.pop(2)\n",
    "list1\n"
   ]
  },
  {
   "cell_type": "markdown",
   "id": "10bd8071",
   "metadata": {},
   "source": [
    "# 12. Describe how list values and string values are identical."
   ]
  },
  {
   "cell_type": "code",
   "execution_count": null,
   "id": "b643a2e3",
   "metadata": {},
   "outputs": [],
   "source": [
    "\n",
    "Both lists and strings can be passed to len()\n",
    "Have indexes and slices\n",
    "Can be used in for loops\n",
    "Can be concatenated or replicated\n",
    "Can be used with the in and not in operators"
   ]
  },
  {
   "cell_type": "markdown",
   "id": "ea5ad0e2",
   "metadata": {},
   "source": [
    "# 13. What's the difference between tuples and lists?"
   ]
  },
  {
   "cell_type": "code",
   "execution_count": null,
   "id": "eef729a4",
   "metadata": {},
   "outputs": [],
   "source": [
    "LIST :-\n",
    "Lists are mutable.             \n",
    "The implication of iterations is Time-consuming.               \n",
    "The list is better for performing operations, such as insertion and deletion.              \n",
    "Lists consume more memory.                  \n",
    "Lists have several built-in methods\n",
    "\n",
    "\n",
    "TUPLE:-\n",
    "\n",
    "Tuples are immutable.\n",
    "The implication of iterations is comparatively Faster.\n",
    "Tuple data type is appropriate for accessing the elements.\n",
    "Tuple consumes less memory as compared to the list\n",
    "Tuple does not have many built-in methods.\n"
   ]
  },
  {
   "cell_type": "markdown",
   "id": "1d74af06",
   "metadata": {},
   "source": [
    "# 14. How do you type a tuple value that only contains the integer 42?"
   ]
  },
  {
   "cell_type": "code",
   "execution_count": 15,
   "id": "142be9e9",
   "metadata": {},
   "outputs": [
    {
     "data": {
      "text/plain": [
       "42"
      ]
     },
     "execution_count": 15,
     "metadata": {},
     "output_type": "execute_result"
    }
   ],
   "source": [
    "tuple=(42)\n",
    "tuple"
   ]
  },
  {
   "cell_type": "markdown",
   "id": "5311ea80",
   "metadata": {},
   "source": [
    "# 15. How do you get a list value's tuple form? How do you get a tuple value's list form?"
   ]
  },
  {
   "cell_type": "code",
   "execution_count": 20,
   "id": "8b66c1d3",
   "metadata": {},
   "outputs": [
    {
     "data": {
      "text/plain": [
       "[(1, 'sravan'), (2, 'ojaswi'), (3, 'bobby'), (4, 'rohith'), (5, 'gnanesh')]"
      ]
     },
     "execution_count": 20,
     "metadata": {},
     "output_type": "execute_result"
    }
   ],
   "source": [
    "data = [(1, 'sravan'), (2, 'ojaswi'), (3, 'bobby'),\n",
    "        (4, 'rohith'), (5, 'gnanesh')]\n",
    "data"
   ]
  },
  {
   "cell_type": "code",
   "execution_count": null,
   "id": "43a2a877",
   "metadata": {},
   "outputs": [],
   "source": [
    "16. Variables that \"contain\" list values are not necessarily lists themselves. Instead, what do they\n",
    "contain?"
   ]
  },
  {
   "cell_type": "code",
   "execution_count": null,
   "id": "33b9f726",
   "metadata": {},
   "outputs": [],
   "source": []
  },
  {
   "cell_type": "markdown",
   "id": "723a037e",
   "metadata": {},
   "source": [
    "# 17. How do you distinguish between copy.copy() and copy.deepcopy()?"
   ]
  },
  {
   "cell_type": "code",
   "execution_count": null,
   "id": "77fcd325",
   "metadata": {},
   "outputs": [],
   "source": [
    "deepcopy():-\n",
    "    \n",
    "Deep copy is a process in which the copying process occurs recursively.\n",
    "It means first constructing a new collection object and then recursively populating it with copies of the child objects found in the original. \n",
    "In case of deep copy, a copy of object is copied in other object. \n",
    "It means that any changes made to a copy of object do not reflect in the original object. \n",
    "In python, this is implemented using “deepcopy()” function.    "
   ]
  },
  {
   "cell_type": "code",
   "execution_count": null,
   "id": "fb662c23",
   "metadata": {},
   "outputs": [],
   "source": [
    "shallow copy :-\n",
    "\n",
    "A shallow copy means constructing a new collection object and then populating it with references to the child objects found in the original. \n",
    "The copying process does not recurse and therefore won’t create copies of the child objects themselves. \n",
    "In case of shallow copy, a reference of object is copied in other object.\n",
    "It means that any changes made to a copy of object do reflect in the original object. \n",
    "In python, this is implemented using “copy()” function.    "
   ]
  },
  {
   "cell_type": "code",
   "execution_count": null,
   "id": "cd8bac32",
   "metadata": {},
   "outputs": [],
   "source": []
  },
  {
   "cell_type": "code",
   "execution_count": null,
   "id": "2625889e",
   "metadata": {},
   "outputs": [],
   "source": []
  }
 ],
 "metadata": {
  "kernelspec": {
   "display_name": "Python 3 (ipykernel)",
   "language": "python",
   "name": "python3"
  },
  "language_info": {
   "codemirror_mode": {
    "name": "ipython",
    "version": 3
   },
   "file_extension": ".py",
   "mimetype": "text/x-python",
   "name": "python",
   "nbconvert_exporter": "python",
   "pygments_lexer": "ipython3",
   "version": "3.9.7"
  }
 },
 "nbformat": 4,
 "nbformat_minor": 5
}

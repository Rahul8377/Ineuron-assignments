{
 "cells": [
  {
   "cell_type": "code",
   "execution_count": 12,
   "id": "986b7a53",
   "metadata": {},
   "outputs": [],
   "source": [
    "s = \"this is My First Python programming class and i am learNING python string and its function \"\n"
   ]
  },
  {
   "cell_type": "markdown",
   "id": "73bf7723",
   "metadata": {},
   "source": [
    "# 1. Try to extract data from index one to index 300 with a jump of 3 ?"
   ]
  },
  {
   "cell_type": "code",
   "execution_count": 2,
   "id": "161ac8f9",
   "metadata": {},
   "outputs": [
    {
     "data": {
      "text/plain": [
       "'h   r tnrrmglsnimeNGyosi dtfco'"
      ]
     },
     "execution_count": 2,
     "metadata": {},
     "output_type": "execute_result"
    }
   ],
   "source": [
    "s[1:300:3]"
   ]
  },
  {
   "cell_type": "markdown",
   "id": "f7c6f599",
   "metadata": {},
   "source": [
    "# 2. Try to reverse a string without using reverse function ?"
   ]
  },
  {
   "cell_type": "code",
   "execution_count": 3,
   "id": "d6a3ec46",
   "metadata": {
    "scrolled": true
   },
   "outputs": [
    {
     "data": {
      "text/plain": [
       "' noitcnuf sti dna gnirts nohtyp GNINrael ma i dna ssalc gnimmargorp nohtyP tsriF yM si siht'"
      ]
     },
     "execution_count": 3,
     "metadata": {},
     "output_type": "execute_result"
    }
   ],
   "source": [
    "s[::-1]"
   ]
  },
  {
   "cell_type": "markdown",
   "id": "516a8170",
   "metadata": {},
   "source": [
    "# 3. Try to split a string after conversion of entire string in uppercase ?"
   ]
  },
  {
   "cell_type": "code",
   "execution_count": 13,
   "id": "889dabe0",
   "metadata": {},
   "outputs": [
    {
     "data": {
      "text/plain": [
       "'this is My First Python programming class and i am learNING python string and its function '"
      ]
     },
     "execution_count": 13,
     "metadata": {},
     "output_type": "execute_result"
    }
   ],
   "source": [
    "s"
   ]
  },
  {
   "cell_type": "code",
   "execution_count": 14,
   "id": "522d4989",
   "metadata": {},
   "outputs": [
    {
     "data": {
      "text/plain": [
       "'THIS IS MY FIRST PYTHON PROGRAMMING CLASS AND I AM LEARNING PYTHON STRING AND ITS FUNCTION '"
      ]
     },
     "execution_count": 14,
     "metadata": {},
     "output_type": "execute_result"
    }
   ],
   "source": [
    "s.upper()"
   ]
  },
  {
   "cell_type": "code",
   "execution_count": 17,
   "id": "ef60f250",
   "metadata": {},
   "outputs": [],
   "source": [
    "s = s.upper()"
   ]
  },
  {
   "cell_type": "code",
   "execution_count": 18,
   "id": "bdcc0925",
   "metadata": {},
   "outputs": [
    {
     "data": {
      "text/plain": [
       "'THIS IS MY FIRST PYTHON PROGRAMMING CLASS AND I AM LEARNING PYTHON STRING AND ITS FUNCTION '"
      ]
     },
     "execution_count": 18,
     "metadata": {},
     "output_type": "execute_result"
    }
   ],
   "source": [
    "s"
   ]
  },
  {
   "cell_type": "code",
   "execution_count": 19,
   "id": "42ac0256",
   "metadata": {},
   "outputs": [
    {
     "data": {
      "text/plain": [
       "['THIS',\n",
       " 'IS',\n",
       " 'MY',\n",
       " 'FIRST',\n",
       " 'PYTHON',\n",
       " 'PROGRAMMING',\n",
       " 'CLASS',\n",
       " 'AND',\n",
       " 'I',\n",
       " 'AM',\n",
       " 'LEARNING',\n",
       " 'PYTHON',\n",
       " 'STRING',\n",
       " 'AND',\n",
       " 'ITS',\n",
       " 'FUNCTION',\n",
       " '']"
      ]
     },
     "execution_count": 19,
     "metadata": {},
     "output_type": "execute_result"
    }
   ],
   "source": [
    "s.split(' ')"
   ]
  },
  {
   "cell_type": "markdown",
   "id": "fcb852ca",
   "metadata": {},
   "source": [
    "# 4. try to convert the whole string into lower case ?\n"
   ]
  },
  {
   "cell_type": "code",
   "execution_count": 20,
   "id": "2349acc3",
   "metadata": {},
   "outputs": [
    {
     "data": {
      "text/plain": [
       "'this is my first python programming class and i am learning python string and its function '"
      ]
     },
     "execution_count": 20,
     "metadata": {},
     "output_type": "execute_result"
    }
   ],
   "source": [
    "s.lower()"
   ]
  },
  {
   "cell_type": "markdown",
   "id": "dd7bed36",
   "metadata": {},
   "source": [
    "# 5 . Try to capitalize the whole string ?\n"
   ]
  },
  {
   "cell_type": "code",
   "execution_count": 21,
   "id": "7d3cdc38",
   "metadata": {},
   "outputs": [],
   "source": [
    "s = s.upper()"
   ]
  },
  {
   "cell_type": "code",
   "execution_count": 22,
   "id": "22a288cc",
   "metadata": {},
   "outputs": [
    {
     "data": {
      "text/plain": [
       "'THIS IS MY FIRST PYTHON PROGRAMMING CLASS AND I AM LEARNING PYTHON STRING AND ITS FUNCTION '"
      ]
     },
     "execution_count": 22,
     "metadata": {},
     "output_type": "execute_result"
    }
   ],
   "source": [
    "s"
   ]
  },
  {
   "cell_type": "markdown",
   "id": "1967bb0d",
   "metadata": {},
   "source": [
    "# 6 . Write a diference between isalnum() and isalpha()?\n"
   ]
  },
  {
   "cell_type": "code",
   "execution_count": 2,
   "id": "e410cbdc",
   "metadata": {},
   "outputs": [],
   "source": [
    "s5 = \"\"\"isalnum() - if all the characters of the string is alpha - numeric then it returns true . And if string donot have alpha - numeric characters then it will return False.for example  s = \"rahul5678\" when this will run then it gives True, s2 = \"34556\" this will also gives true value for isalnum()beacause it contains numeric value, same for the s3 = \"rahul\" this also gives true value \"\"\""
   ]
  },
  {
   "cell_type": "code",
   "execution_count": 3,
   "id": "398c6c3b",
   "metadata": {},
   "outputs": [
    {
     "data": {
      "text/plain": [
       "'isalnum() - if all the characters of the string is alpha - numeric then it returns true . And if string donot have alpha - numeric characters then it will return False.for example  s = \"rahul5678\" when this will run then it gives True, s2 = \"34556\" this will also gives true value for isalnum()beacause it contains numeric value, same for the s3 = \"rahul\" this also gives true value '"
      ]
     },
     "execution_count": 3,
     "metadata": {},
     "output_type": "execute_result"
    }
   ],
   "source": [
    "s5"
   ]
  },
  {
   "cell_type": "code",
   "execution_count": 4,
   "id": "407b463d",
   "metadata": {},
   "outputs": [],
   "source": [
    "s6 = \"\"\"isalpha() - if all the characters of the string is alphabetic then only it will gives true value otherwise it will return false. for example a = \"rahul\" , it will return true value while in case of b = \"rahul1234\", it will return false value.\"\"\""
   ]
  },
  {
   "cell_type": "code",
   "execution_count": 5,
   "id": "5a980fff",
   "metadata": {},
   "outputs": [
    {
     "data": {
      "text/plain": [
       "'isalpha() - if all the characters of the string is alphabetic then only it will gives true value otherwise it will return false. for example a = \"rahul\" , it will return true value while in case of b = \"rahul1234\", it will return false value.'"
      ]
     },
     "execution_count": 5,
     "metadata": {},
     "output_type": "execute_result"
    }
   ],
   "source": [
    "s6"
   ]
  },
  {
   "cell_type": "markdown",
   "id": "e2e8c93a",
   "metadata": {},
   "source": [
    "# 7. Try to give an example of expand tab?\n"
   ]
  },
  {
   "cell_type": "code",
   "execution_count": 9,
   "id": "a201e1c9",
   "metadata": {},
   "outputs": [],
   "source": [
    "s = \"this\\t is\\t My\\t First\\t Python\\t programming\\t class\\t and\\t i\\t am\\t learNING\\t python\\t string\\t and\\t its\\t function\\t \"\n"
   ]
  },
  {
   "cell_type": "code",
   "execution_count": 10,
   "id": "584097b0",
   "metadata": {},
   "outputs": [
    {
     "data": {
      "text/plain": [
       "'this     is      My      First   Python  programming     class   and     i       am      learNING        python  string  and     its     function        '"
      ]
     },
     "execution_count": 10,
     "metadata": {},
     "output_type": "execute_result"
    }
   ],
   "source": [
    "s.expandtabs()"
   ]
  },
  {
   "cell_type": "markdown",
   "id": "39573624",
   "metadata": {},
   "source": [
    "# 8 . Give an example of strip , lstrip and rstrip ?\n"
   ]
  },
  {
   "cell_type": "code",
   "execution_count": 11,
   "id": "d38733d6",
   "metadata": {},
   "outputs": [],
   "source": [
    "s = \"  rahul  \""
   ]
  },
  {
   "cell_type": "code",
   "execution_count": 12,
   "id": "315cdde9",
   "metadata": {},
   "outputs": [
    {
     "data": {
      "text/plain": [
       "'rahul'"
      ]
     },
     "execution_count": 12,
     "metadata": {},
     "output_type": "execute_result"
    }
   ],
   "source": [
    "s.strip()"
   ]
  },
  {
   "cell_type": "code",
   "execution_count": 13,
   "id": "76c0f3eb",
   "metadata": {},
   "outputs": [
    {
     "data": {
      "text/plain": [
       "'  rahul'"
      ]
     },
     "execution_count": 13,
     "metadata": {},
     "output_type": "execute_result"
    }
   ],
   "source": [
    "s.rstrip() "
   ]
  },
  {
   "cell_type": "code",
   "execution_count": 14,
   "id": "8e67463d",
   "metadata": {},
   "outputs": [
    {
     "data": {
      "text/plain": [
       "'rahul  '"
      ]
     },
     "execution_count": 14,
     "metadata": {},
     "output_type": "execute_result"
    }
   ],
   "source": [
    "s.lstrip()"
   ]
  },
  {
   "cell_type": "code",
   "execution_count": 15,
   "id": "4ac45a57",
   "metadata": {},
   "outputs": [],
   "source": [
    "s8 = \"rahul\""
   ]
  },
  {
   "cell_type": "code",
   "execution_count": 17,
   "id": "c45378b2",
   "metadata": {},
   "outputs": [
    {
     "data": {
      "text/plain": [
       "'$$rahul$$$'"
      ]
     },
     "execution_count": 17,
     "metadata": {},
     "output_type": "execute_result"
    }
   ],
   "source": [
    "s8.center(10, '$')"
   ]
  },
  {
   "cell_type": "markdown",
   "id": "832472b2",
   "metadata": {},
   "source": [
    "# 9 . Try  to give a defination of string center function with and exmple ?\n"
   ]
  },
  {
   "cell_type": "code",
   "execution_count": 22,
   "id": "66d59066",
   "metadata": {},
   "outputs": [],
   "source": [
    "s9 = \"\"\"Python String center() method creates and returns a new string that is padded with the specified character. for example  s8 = \"rahul\"  s8.center(10 ,'$')\"\"\""
   ]
  },
  {
   "cell_type": "code",
   "execution_count": 23,
   "id": "14aa17cd",
   "metadata": {},
   "outputs": [
    {
     "data": {
      "text/plain": [
       "'Python String center() method creates and returns a new string that is padded with the specified character. for example  s8 = \"rahul\"  s8.center(10 ,\\'$\\')'"
      ]
     },
     "execution_count": 23,
     "metadata": {},
     "output_type": "execute_result"
    }
   ],
   "source": [
    "s9"
   ]
  },
  {
   "cell_type": "markdown",
   "id": "7f8ea193",
   "metadata": {},
   "source": [
    "# 10 . Write your own definition of compiler and interpretor without copy paste form internet in your own language?\n"
   ]
  },
  {
   "cell_type": "code",
   "execution_count": 24,
   "id": "eceb0cbc",
   "metadata": {},
   "outputs": [],
   "source": [
    "compiler = \" A compiler is a software program that follows the syntax rule of programming language to convert a source code to machine code. It cannot fix any error if present in a program; it generates an error message, and you have to correct it yourself in the program's syntax\""
   ]
  },
  {
   "cell_type": "code",
   "execution_count": 25,
   "id": "8809d3d9",
   "metadata": {},
   "outputs": [],
   "source": [
    "interpreter = \" an interpreter converts high-level programming language into machine language line-by-line while interpreting and running the program.\""
   ]
  },
  {
   "cell_type": "markdown",
   "id": "1a1a66f3",
   "metadata": {},
   "source": [
    "# 11 . Try to write a usecase of python with your understanding ?\n"
   ]
  },
  {
   "cell_type": "code",
   "execution_count": 30,
   "id": "a4ee0007",
   "metadata": {},
   "outputs": [],
   "source": [
    "s10 = \"use case of python - python primilary use for web applications ,software development, data science, AI apllications and game development\""
   ]
  },
  {
   "cell_type": "code",
   "execution_count": 31,
   "id": "f89f509c",
   "metadata": {},
   "outputs": [
    {
     "data": {
      "text/plain": [
       "'use case of python - python primilary use for web applications ,software development, data science, AI apllications and game development'"
      ]
     },
     "execution_count": 31,
     "metadata": {},
     "output_type": "execute_result"
    }
   ],
   "source": [
    "s10"
   ]
  },
  {
   "cell_type": "code",
   "execution_count": null,
   "id": "55529156",
   "metadata": {},
   "outputs": [],
   "source": []
  }
 ],
 "metadata": {
  "kernelspec": {
   "display_name": "Python 3 (ipykernel)",
   "language": "python",
   "name": "python3"
  },
  "language_info": {
   "codemirror_mode": {
    "name": "ipython",
    "version": 3
   },
   "file_extension": ".py",
   "mimetype": "text/x-python",
   "name": "python",
   "nbconvert_exporter": "python",
   "pygments_lexer": "ipython3",
   "version": "3.9.7"
  }
 },
 "nbformat": 4,
 "nbformat_minor": 5
}

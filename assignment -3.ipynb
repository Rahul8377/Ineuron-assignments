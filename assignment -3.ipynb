{
 "cells": [
  {
   "cell_type": "markdown",
   "id": "3917a4cd",
   "metadata": {},
   "source": [
    "# 1. Why are functions advantageous to have in your programs?"
   ]
  },
  {
   "cell_type": "code",
   "execution_count": null,
   "id": "8d3b1a0e",
   "metadata": {},
   "outputs": [],
   "source": [
    "1.It helps to divide the large programs into small groups so that we can read the code and debug the program faster and better.\n",
    "\n",
    "2.Functions stop us from writing the same logic various times. We can bind the logic in one def and then call the same over and over.\n",
    "\n",
    "3.Many persons can work on the same program by assigning different methods to each of them.\n",
    "\n",
    "4.It encourages us to call the same method with different inputs multiple times."
   ]
  },
  {
   "cell_type": "markdown",
   "id": "7087344c",
   "metadata": {},
   "source": [
    "# 2. When does the code in a function run: when it's specified or when it's called?"
   ]
  },
  {
   "cell_type": "code",
   "execution_count": null,
   "id": "85597d56",
   "metadata": {},
   "outputs": [],
   "source": [
    "The code in a function executes when the function is called, not when the function is defined."
   ]
  },
  {
   "cell_type": "markdown",
   "id": "59f5b320",
   "metadata": {},
   "source": [
    "# 3. What statement creates a function?"
   ]
  },
  {
   "cell_type": "code",
   "execution_count": null,
   "id": "c975e40a",
   "metadata": {},
   "outputs": [],
   "source": [
    "To create a function, we must first declare it and give it a name, the same way we'd create any variable, and then we follow it by a function definition.\n",
    "\n",
    "The def statement defines a function."
   ]
  },
  {
   "cell_type": "markdown",
   "id": "ca4c8599",
   "metadata": {},
   "source": [
    "# 4. What is the difference between a function and a function call?"
   ]
  },
  {
   "cell_type": "code",
   "execution_count": null,
   "id": "b89fe44b",
   "metadata": {},
   "outputs": [],
   "source": [
    "A function is a set of code that performs a specific task and can be used whenever needed just by calling it. A function consists of the def statement and the code in its def clause.\n",
    "\n",
    "\n",
    "Whenever a function is called a new stack frame is created with all the function’s data and this stack frame is pushed in the program stack, and the stack pointer that always points the top of the program stack points the stack frame pushed as it is on the top of the program stack.\n",
    "A function call is what moves the program execution into the function, and the function call evaluates to the function's return value. \n",
    "\n",
    " "
   ]
  },
  {
   "cell_type": "markdown",
   "id": "09897ae3",
   "metadata": {},
   "source": [
    "# 5. How many global scopes are there in a Python program? How many local scopes?"
   ]
  },
  {
   "cell_type": "code",
   "execution_count": null,
   "id": "39affd5a",
   "metadata": {},
   "outputs": [],
   "source": [
    "There’s only one global Python scope per program execution. This scope remains in existence until the program terminates and all its names are forgotten."
   ]
  },
  {
   "cell_type": "markdown",
   "id": "07e5f998",
   "metadata": {},
   "source": [
    "# 6. What happens to variables in a local scope when the function call returns?"
   ]
  },
  {
   "cell_type": "code",
   "execution_count": null,
   "id": "27e49e32",
   "metadata": {},
   "outputs": [],
   "source": [
    "When the execution of the function terminates (returns), the local variables are destroyed."
   ]
  },
  {
   "cell_type": "markdown",
   "id": "cfa9ae5d",
   "metadata": {},
   "source": [
    "# 7. What is the concept of a return value? Is it possible to have a return value in an expression?"
   ]
  },
  {
   "cell_type": "code",
   "execution_count": null,
   "id": "0bf02a62",
   "metadata": {},
   "outputs": [],
   "source": [
    "A return is a value that a function returns to the calling script or function when it completes its task.\n",
    "A return value can be any one of the four variable types: handle, integer, object, or string. \n",
    "Since return_42() returns a numeric value, you can use that value in a math expression or any other kind of expression in which the value has a logical or coherent meaning. \n",
    "This is how a caller code can take advantage of a function’s return value."
   ]
  },
  {
   "cell_type": "markdown",
   "id": "c47a6fda",
   "metadata": {},
   "source": [
    "# 8. If a function does not have a return statement, what is the return value of a call to that function?"
   ]
  },
  {
   "cell_type": "code",
   "execution_count": null,
   "id": "0b43cde7",
   "metadata": {},
   "outputs": [],
   "source": [
    "If there is no return statement for a function, its return value is None."
   ]
  },
  {
   "cell_type": "markdown",
   "id": "859c2391",
   "metadata": {},
   "source": [
    "# 9. How do you make a function variable refer to the global variable?"
   ]
  },
  {
   "cell_type": "code",
   "execution_count": null,
   "id": "2ead2c8a",
   "metadata": {},
   "outputs": [],
   "source": [
    "When we create a variable inside a function, that variable is local, and can only be used inside that function.\n",
    "\n",
    "To create a global variable inside a function, you can use the global keyword."
   ]
  },
  {
   "cell_type": "markdown",
   "id": "c772be57",
   "metadata": {},
   "source": [
    "# 10. What is the data type of None?"
   ]
  },
  {
   "cell_type": "code",
   "execution_count": null,
   "id": "a99e8cd1",
   "metadata": {},
   "outputs": [],
   "source": [
    "None is a data type of its own (NoneType)"
   ]
  },
  {
   "cell_type": "markdown",
   "id": "be8e453f",
   "metadata": {},
   "source": [
    "# 11. What does the sentence import areallyourpetsnamederic do?"
   ]
  },
  {
   "cell_type": "code",
   "execution_count": null,
   "id": "4c2913fe",
   "metadata": {},
   "outputs": [],
   "source": [
    "That import statement imports a module named areallyourpetsnamederic. "
   ]
  },
  {
   "cell_type": "markdown",
   "id": "d725e49d",
   "metadata": {},
   "source": [
    "# 12. If you had a bacon() feature in a spam module, what would you call it after importing spam?"
   ]
  },
  {
   "cell_type": "code",
   "execution_count": null,
   "id": "4a9a2153",
   "metadata": {},
   "outputs": [],
   "source": [
    "This function can be called with spam.bacon()."
   ]
  },
  {
   "cell_type": "markdown",
   "id": "833fedad",
   "metadata": {},
   "source": [
    "# 13. What can you do to save a programme from crashing if it encounters an error?"
   ]
  },
  {
   "cell_type": "code",
   "execution_count": null,
   "id": "942131b1",
   "metadata": {},
   "outputs": [],
   "source": [
    "Place the line of code that might cause an error in a try clause."
   ]
  },
  {
   "cell_type": "markdown",
   "id": "a38b9cef",
   "metadata": {},
   "source": [
    "# 14. What is the purpose of the try clause? What is the purpose of the except clause?"
   ]
  },
  {
   "cell_type": "code",
   "execution_count": null,
   "id": "51562ddf",
   "metadata": {},
   "outputs": [],
   "source": [
    "Try clause -\n",
    "The try block is used to check some code for errors i.e the code inside the try block will execute when there is no error in the program. \n",
    "except clause - \n",
    "Whereas the code inside the except block will execute whenever the program encounters some error in the preceding try block."
   ]
  },
  {
   "cell_type": "code",
   "execution_count": null,
   "id": "7bfe3c47",
   "metadata": {},
   "outputs": [],
   "source": []
  },
  {
   "cell_type": "code",
   "execution_count": null,
   "id": "5dbdfd32",
   "metadata": {},
   "outputs": [],
   "source": []
  },
  {
   "cell_type": "code",
   "execution_count": null,
   "id": "c736b5e9",
   "metadata": {},
   "outputs": [],
   "source": []
  }
 ],
 "metadata": {
  "kernelspec": {
   "display_name": "Python 3 (ipykernel)",
   "language": "python",
   "name": "python3"
  },
  "language_info": {
   "codemirror_mode": {
    "name": "ipython",
    "version": 3
   },
   "file_extension": ".py",
   "mimetype": "text/x-python",
   "name": "python",
   "nbconvert_exporter": "python",
   "pygments_lexer": "ipython3",
   "version": "3.9.7"
  }
 },
 "nbformat": 4,
 "nbformat_minor": 5
}

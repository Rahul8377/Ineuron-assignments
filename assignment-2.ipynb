{
 "cells": [
  {
   "cell_type": "markdown",
   "id": "dda01b00",
   "metadata": {},
   "source": [
    "# 1.What are the two values of the Boolean data type? How do you write them?"
   ]
  },
  {
   "cell_type": "code",
   "execution_count": null,
   "id": "95bee21c",
   "metadata": {},
   "outputs": [],
   "source": [
    "The two values of boolean datatype are TRUE AND FALSE."
   ]
  },
  {
   "cell_type": "code",
   "execution_count": 1,
   "id": "4235e4e0",
   "metadata": {},
   "outputs": [
    {
     "data": {
      "text/plain": [
       "False"
      ]
     },
     "execution_count": 1,
     "metadata": {},
     "output_type": "execute_result"
    }
   ],
   "source": [
    "X = 10\n",
    "Y = 20\n",
    "X==Y"
   ]
  },
  {
   "cell_type": "markdown",
   "id": "2972092d",
   "metadata": {},
   "source": [
    "# 2. What are the three different types of Boolean operators?"
   ]
  },
  {
   "cell_type": "code",
   "execution_count": null,
   "id": "b435859e",
   "metadata": {},
   "outputs": [],
   "source": [
    "The three type of boolean operators are :\n",
    "    1.AND - The Boolean and operator returns False if any one of the inputs is False else returns True.\n",
    "    2.OR - The Boolean or operator returns True if any one of the inputs is True else returns False.\n",
    "    3.NOT -The Boolean Not operator only require one argument and returns the negation of the argument that means returns the True for False and False for True."
   ]
  },
  {
   "cell_type": "markdown",
   "id": "014763eb",
   "metadata": {},
   "source": [
    "# 3. Make a list of each Boolean operator&#39;s truth tables (i.e. every possible combination of Boolean values for the operator and what it evaluate )."
   ]
  },
  {
   "cell_type": "code",
   "execution_count": null,
   "id": "c4104653",
   "metadata": {},
   "outputs": [],
   "source": [
    "Truth tables of boolean operators - \n",
    "\n",
    "1. AND operator - \n",
    " A       B       A and B\n",
    "True    True      True\n",
    "True    False     False\n",
    "False   True      False\n",
    "False   False     False\n",
    "\n",
    "2.OR operator-\n",
    "\n",
    "A       B       A or B\n",
    "True    True     True\n",
    "True    False    True\n",
    "False   True     True\n",
    "False   False    False\n",
    "\n",
    "\n",
    "3.NOT operator - \n",
    "\n",
    "A      Not A\n",
    "True    False\n",
    "False   True\n",
    "\n",
    "\n"
   ]
  },
  {
   "cell_type": "markdown",
   "id": "12b6c18b",
   "metadata": {},
   "source": [
    "# 4. What are the values of the following expressions?\n",
    "(5 > 4) and (3 == 5)\n",
    "not (5 > 4)\n",
    "(5 > 4) or (3 == 5)\n",
    "not ((5 >4) or (3 == 5))\n",
    "(True and True) and (True == False)\n",
    "(not False) or (not True)"
   ]
  },
  {
   "cell_type": "code",
   "execution_count": 2,
   "id": "8fec91cf",
   "metadata": {},
   "outputs": [
    {
     "data": {
      "text/plain": [
       "False"
      ]
     },
     "execution_count": 2,
     "metadata": {},
     "output_type": "execute_result"
    }
   ],
   "source": [
    "(5>4) and (3==5)"
   ]
  },
  {
   "cell_type": "code",
   "execution_count": 3,
   "id": "26cfe073",
   "metadata": {},
   "outputs": [
    {
     "data": {
      "text/plain": [
       "False"
      ]
     },
     "execution_count": 3,
     "metadata": {},
     "output_type": "execute_result"
    }
   ],
   "source": [
    "not(5>4)"
   ]
  },
  {
   "cell_type": "code",
   "execution_count": 4,
   "id": "1be6a4ac",
   "metadata": {},
   "outputs": [
    {
     "data": {
      "text/plain": [
       "True"
      ]
     },
     "execution_count": 4,
     "metadata": {},
     "output_type": "execute_result"
    }
   ],
   "source": [
    "(5 > 4) or (3 == 5)"
   ]
  },
  {
   "cell_type": "code",
   "execution_count": 5,
   "id": "a9e00193",
   "metadata": {},
   "outputs": [
    {
     "data": {
      "text/plain": [
       "False"
      ]
     },
     "execution_count": 5,
     "metadata": {},
     "output_type": "execute_result"
    }
   ],
   "source": [
    "not ((5 >4) or (3 == 5))"
   ]
  },
  {
   "cell_type": "code",
   "execution_count": 6,
   "id": "b3df7d8a",
   "metadata": {},
   "outputs": [
    {
     "data": {
      "text/plain": [
       "False"
      ]
     },
     "execution_count": 6,
     "metadata": {},
     "output_type": "execute_result"
    }
   ],
   "source": [
    "(True and True) and (True == False)"
   ]
  },
  {
   "cell_type": "code",
   "execution_count": 7,
   "id": "273edb85",
   "metadata": {},
   "outputs": [
    {
     "data": {
      "text/plain": [
       "True"
      ]
     },
     "execution_count": 7,
     "metadata": {},
     "output_type": "execute_result"
    }
   ],
   "source": [
    "(not False) or (not True)"
   ]
  },
  {
   "cell_type": "markdown",
   "id": "ad276b04",
   "metadata": {},
   "source": [
    "# 5. What are the six comparison operators?"
   ]
  },
  {
   "cell_type": "code",
   "execution_count": null,
   "id": "5bb6c7ae",
   "metadata": {},
   "outputs": [],
   "source": [
    "Python has six comparison operators, which are as follows:\n",
    "\n",
    "Less than ( < ) - The Less Than operator (<) compares two values and returns True if the value on the left is less than the value on the right. Otherwise, it returns False.\n",
    "\n",
    "Less than or equal to (<=) - The less than or equal to operator compares two values and returns True if the left value is less than or equal to the right value. Otherwise, it returns False.\n",
    "\n",
    "Greater than (>) - The greater than operator (>) compares two values and returns True if the left value is greater than the right value. Otherwise, it returns False.\n",
    "\n",
    "Greater than or equal to (>=) - The greater than or equal to operator (>=) compares two values and returns True if the left value is greater than or equal to the right value. Otherwise, it returns False.\n",
    "\n",
    "Equal to ( == ) - The equal to operator (==) compares two values and returns True if the left value is equal to the right value. Otherwise, it returns False .\n",
    "\n",
    "Not equal to ( != ) - The not equal to operator (!=) compares two values and returns True if the left value isn’t equal to the right value. Otherwise, it returns False."
   ]
  },
  {
   "cell_type": "markdown",
   "id": "c21ef3ae",
   "metadata": {},
   "source": [
    "# 6. How do you tell the difference between the equal to and assignment operators?Describe a condition and when you would use one."
   ]
  },
  {
   "cell_type": "code",
   "execution_count": null,
   "id": "2b287aa8",
   "metadata": {},
   "outputs": [],
   "source": [
    "The differences can be shown in tabular form as follows:\n",
    "\n",
    "EQUAL TO  OPERATOR(=)                                                            ASSIGNMENT OPERATOR(==)\n",
    "It is an assignment operator.                                      It is a relational or comparison operator.\n",
    "It is used for assigning the value to a variable.                  It is used for comparing two values. It returns 1 if both the values are equal otherwise returns 0.\n",
    "Constant term cannot be placed on left hand side.                  Constant term can be placed in the left hand side.\n",
    "Example: 1=x; is invalid.                                          Example: 1==1 is valid and returns 1.\n",
    "                                 "
   ]
  },
  {
   "cell_type": "markdown",
   "id": "9d26177e",
   "metadata": {},
   "source": [
    "# 7. Identify the three blocks in this code:\n",
    "spam = 0\n",
    "if spam == 10:\n",
    "print('eggs')\n",
    "if spam > 5:\n",
    "print('bacon')\n",
    "else:\n",
    "print('ham')\n",
    "print('spam')\n",
    "print('spam')"
   ]
  },
  {
   "cell_type": "code",
   "execution_count": 8,
   "id": "397bde4f",
   "metadata": {},
   "outputs": [
    {
     "ename": "IndentationError",
     "evalue": "expected an indented block (Temp/ipykernel_7868/2373325787.py, line 3)",
     "output_type": "error",
     "traceback": [
      "\u001b[1;36m  File \u001b[1;32m\"C:\\Users\\RAKHIA~1\\AppData\\Local\\Temp/ipykernel_7868/2373325787.py\"\u001b[1;36m, line \u001b[1;32m3\u001b[0m\n\u001b[1;33m    print('eggs')\u001b[0m\n\u001b[1;37m    ^\u001b[0m\n\u001b[1;31mIndentationError\u001b[0m\u001b[1;31m:\u001b[0m expected an indented block\n"
     ]
    }
   ],
   "source": [
    "spam = 0\n",
    "if spam == 10:\n",
    "print('eggs')\n",
    "if spam > 5:\n",
    "print('bacon')\n",
    "else:\n",
    "print('ham')\n",
    "print('spam')\n",
    "print('spam')"
   ]
  },
  {
   "cell_type": "markdown",
   "id": "14dbf94b",
   "metadata": {},
   "source": [
    "# 8. Write code that prints Hello if 1 is stored in spam, prints Howdy if 2 is stored in spam, and prints Greetings! if anything else is stored in spam."
   ]
  },
  {
   "cell_type": "code",
   "execution_count": 13,
   "id": "d54a0697",
   "metadata": {},
   "outputs": [
    {
     "name": "stdout",
     "output_type": "stream",
     "text": [
      "1\n",
      "Greetings!\n"
     ]
    }
   ],
   "source": [
    "spam = input()\n",
    "\n",
    "if spam == 1:\n",
    "    print('Hello')\n",
    "elif spam == 2:\n",
    "    print('Howdy')\n",
    "else:\n",
    "    print('Greetings!')"
   ]
  },
  {
   "cell_type": "markdown",
   "id": "603e3c3e",
   "metadata": {},
   "source": [
    "# 9.If your programme is stuck in an endless loop, what keys you’ll press?"
   ]
  },
  {
   "cell_type": "code",
   "execution_count": null,
   "id": "18a3c1c7",
   "metadata": {},
   "outputs": [],
   "source": [
    "control + c"
   ]
  },
  {
   "cell_type": "markdown",
   "id": "a4a8aeb4",
   "metadata": {},
   "source": [
    "# 10. How can you tell the difference between break and continue?"
   ]
  },
  {
   "cell_type": "code",
   "execution_count": null,
   "id": "ba3620f6",
   "metadata": {},
   "outputs": [],
   "source": [
    "The break is used to terminate the execution of the statements and iteration of the loop.\n",
    "It will move to the next statement after the loop and continue for different purposes. \n",
    "The break statement will allow control to move out of loop skipping the execution of the remaining statements of loop and continue will allow the control to remain inside the loop by moving 1 iteration ahead. \n",
    "\n",
    "\n",
    "The continue statement used to skip the code inside loop for the current iteration.\n",
    "The loops do not terminate but continuously goes on with the next iteration.\n",
    "The statement is also called as a jump statement which will interrupt the change.\n",
    "\n"
   ]
  },
  {
   "cell_type": "markdown",
   "id": "b1f94718",
   "metadata": {},
   "source": [
    "# 11. In a for loop, what is the difference between range(10), range(0, 10), and range(0, 10, 1)?"
   ]
  },
  {
   "cell_type": "code",
   "execution_count": 16,
   "id": "a7c0131c",
   "metadata": {},
   "outputs": [
    {
     "data": {
      "text/plain": [
       "[0, 1, 2, 3, 4, 5, 6, 7, 8, 9]"
      ]
     },
     "execution_count": 16,
     "metadata": {},
     "output_type": "execute_result"
    }
   ],
   "source": [
    "list(range(10))"
   ]
  },
  {
   "cell_type": "code",
   "execution_count": 18,
   "id": "ea737034",
   "metadata": {},
   "outputs": [
    {
     "data": {
      "text/plain": [
       "[0, 1, 2, 3, 4, 5, 6, 7, 8, 9]"
      ]
     },
     "execution_count": 18,
     "metadata": {},
     "output_type": "execute_result"
    }
   ],
   "source": [
    "list(range(0,10))"
   ]
  },
  {
   "cell_type": "code",
   "execution_count": 19,
   "id": "cf1ad516",
   "metadata": {},
   "outputs": [
    {
     "data": {
      "text/plain": [
       "[0, 1, 2, 3, 4, 5, 6, 7, 8, 9]"
      ]
     },
     "execution_count": 19,
     "metadata": {},
     "output_type": "execute_result"
    }
   ],
   "source": [
    "list(range(0,10,1))"
   ]
  },
  {
   "cell_type": "code",
   "execution_count": null,
   "id": "159b28be",
   "metadata": {},
   "outputs": [],
   "source": [
    "there is no difference , all have same meaning."
   ]
  },
  {
   "cell_type": "markdown",
   "id": "5a3997e1",
   "metadata": {},
   "source": [
    "# 12. Write a short program that prints the numbers 1 to 10 using a for loop. Then write an equivalent program that prints the numbers 1 to 10 using a while loop."
   ]
  },
  {
   "cell_type": "code",
   "execution_count": 24,
   "id": "5220f137",
   "metadata": {},
   "outputs": [
    {
     "name": "stdout",
     "output_type": "stream",
     "text": [
      "1\n",
      "2\n",
      "3\n",
      "4\n",
      "5\n",
      "6\n",
      "7\n",
      "8\n",
      "9\n",
      "10\n"
     ]
    }
   ],
   "source": [
    "for i in range(1,11):\n",
    "    print(i)"
   ]
  },
  {
   "cell_type": "code",
   "execution_count": 25,
   "id": "67bb453e",
   "metadata": {},
   "outputs": [
    {
     "name": "stdout",
     "output_type": "stream",
     "text": [
      "1\n",
      "2\n",
      "3\n",
      "4\n",
      "5\n",
      "6\n",
      "7\n",
      "8\n",
      "9\n",
      "10\n"
     ]
    }
   ],
   "source": [
    "i = 1\n",
    "while(i<=10):\n",
    "    print(i)\n",
    "    i += 1"
   ]
  },
  {
   "cell_type": "markdown",
   "id": "12e520db",
   "metadata": {},
   "source": [
    "# 13. If you had a function named bacon() inside a module named spam, how would you call it after importing spam?"
   ]
  },
  {
   "cell_type": "code",
   "execution_count": null,
   "id": "9dc11810",
   "metadata": {},
   "outputs": [],
   "source": []
  },
  {
   "cell_type": "code",
   "execution_count": null,
   "id": "a9bb41c9",
   "metadata": {},
   "outputs": [],
   "source": []
  }
 ],
 "metadata": {
  "kernelspec": {
   "display_name": "Python 3 (ipykernel)",
   "language": "python",
   "name": "python3"
  },
  "language_info": {
   "codemirror_mode": {
    "name": "ipython",
    "version": 3
   },
   "file_extension": ".py",
   "mimetype": "text/x-python",
   "name": "python",
   "nbconvert_exporter": "python",
   "pygments_lexer": "ipython3",
   "version": "3.9.7"
  }
 },
 "nbformat": 4,
 "nbformat_minor": 5
}

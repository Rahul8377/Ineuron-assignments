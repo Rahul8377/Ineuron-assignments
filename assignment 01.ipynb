{
 "cells": [
  {
   "cell_type": "markdown",
   "id": "50adeac3",
   "metadata": {},
   "source": [
    "# 1. In the below elements which of them are values or an expression? eg:- values can be integer or string and expressions will be mathematical operators.\n",
    "* \n",
    "'hello'\n",
    "-87.8\n",
    "- \n",
    "/ \n",
    "+\n",
    "6 \n"
   ]
  },
  {
   "cell_type": "code",
   "execution_count": 1,
   "id": "49502a69",
   "metadata": {},
   "outputs": [],
   "source": [
    "values = ['hello', \"-87.8\", \"6\"] \n",
    "\n",
    "Expressions = ['*', \"-\", \"/\",\"+\"]"
   ]
  },
  {
   "cell_type": "markdown",
   "id": "00ab01b6",
   "metadata": {},
   "source": [
    "# 2. What is the difference between string and variable?"
   ]
  },
  {
   "cell_type": "code",
   "execution_count": null,
   "id": "72827658",
   "metadata": {},
   "outputs": [],
   "source": [
    "String -1. A string is a sequence of one or more characters (letters, numbers, symbols) that can be either a constant or a variable.\n",
    "        2. Strings are the data, so we can use them to fill up a variable. Declaring strings as variables can make it easier for us to work with strings throughout our Python programs.\n",
    "        3. Strings are immutable sequence of characters that means we cannot change the elemets inside the string.\n",
    "        "
   ]
  },
  {
   "cell_type": "code",
   "execution_count": null,
   "id": "608b7452",
   "metadata": {},
   "outputs": [],
   "source": [
    "Variable - 1. Variables are symbols that you can use to store data in a program.\n",
    "           2. Variable is  an empty box that you fill with some data or value.\n",
    "           3.A Python Variables is only a name given to a memory location, all the operations done on the variable effects that memory location.\n",
    "    "
   ]
  },
  {
   "cell_type": "markdown",
   "id": "d8f9eac5",
   "metadata": {},
   "source": [
    "# 3 Describe three different data types?"
   ]
  },
  {
   "cell_type": "code",
   "execution_count": null,
   "id": "cc55519b",
   "metadata": {},
   "outputs": [],
   "source": [
    "Three data types in python are :-\n",
    "      \n",
    "    1.Numeric data type.\n",
    "    2.sequence data type.\n",
    "    3.Boolean data type.\n",
    "\n",
    "1.Numeric data type - these are the one which have numeric value and numeric value can be integer, floating numbers and complex numbers.\n",
    "                    \n",
    "                    integer - It is represented by int class and have positive and negative whole numbers.\n",
    "                    float - It is a real number with floating point representation. It is specified by a decimal point. \n",
    "                    complex - It is specified as (real part) + (imaginary part)j. For example – 7+3j\n",
    "    \n",
    "    \n",
    "2.Sequence data type - String :- A string value is a collection of one or more characters put in single, double or triple quotes.\n",
    "                       List :-  List: A list object is an ordered collection of one or more data items, not necessarily of the same type, put in square brackets.\n",
    "                       Tuple:- A Tuple object is an ordered collection of one or more data items, not necessarily of the same type, put in parentheses.\n",
    "    \n",
    "    \n",
    "3.Boolean data type - Data type with one of the two built-in values, True or False.   \n",
    "    \n",
    "    \n",
    "    "
   ]
  },
  {
   "cell_type": "markdown",
   "id": "f96eea3c",
   "metadata": {},
   "source": [
    "# 4 What is an expression made up of? What do all expressions do?"
   ]
  },
  {
   "cell_type": "code",
   "execution_count": null,
   "id": "183d5027",
   "metadata": {},
   "outputs": [],
   "source": [
    "An expression is a combination of operators and operands that is interpreted to produce some other value.\n",
    "\n",
    "Constant Expressions:- These are the expressions that have constant values only.\n",
    "\n",
    "Example: x = (34+56)\n",
    "    \n",
    "Arithmetic Expressions:- An arithmetic expression is a combination of numeric values, operators, and sometimes parenthesis.The operators used in these expressions are arithmetic operators like addition, subtraction, etc.\n",
    "\n",
    "Example :- add = x + y\n",
    "           sub = x - y\n",
    "           pro = x * y\n",
    "            div = x / y\n",
    "\n",
    "Floating Expressions: These are the kind of expressions which produce floating point numbers as result after all computations and type conversions.\n",
    "\n",
    "Example :- a = 13\n",
    "           b = 5\n",
    "  \n",
    "           c = a / b\n",
    "           print(c)            output :-  2.6\n",
    "    \n",
    "Relational Expressions: In these types of expressions, arithmetic expressions are written on both sides of relational operator (> , < , >= , <=). Those arithmetic expressions are evaluated first, and then compared as per relational operator and produce a boolean output in the end. These expressions are also called Boolean expressions.    \n",
    "    \n",
    "    \n",
    "Logical Expressions: These are kinds of expressions that result in either True or False. It basically specifies one or more conditions. \n",
    "   \n",
    " For example, (10 == 9) is a condition if 10 is equal to 9.    \n",
    "    \n",
    "    and\tP and Q\tIt returns true if both P and Q are true otherwise returns false\n",
    "    or\tP or Q\tIt returns true if at least one of P and Q is true\n",
    "    not\tnot P\tIt returns true if condition P is false    \n",
    "    \n",
    "    \n",
    "Bitwise Expressions: These are the kind of expressions in which computations are performed at bit level.    \n",
    "Example\n",
    "    a = 12\n",
    "    x = a >> 2\n",
    "    y = a << 1\n",
    "  \n",
    "    print(x, y)                  output :-  3 24\n",
    "    \n",
    "    "
   ]
  },
  {
   "cell_type": "markdown",
   "id": "c7dec4e3",
   "metadata": {},
   "source": [
    "# 5 This assignment statements, like spam = 10. What is the difference between an expression and a statement?"
   ]
  },
  {
   "cell_type": "code",
   "execution_count": null,
   "id": "42531d41",
   "metadata": {},
   "outputs": [],
   "source": [
    "Expression is a combination of values, variables, operators and calls to functions.Expressions need to be evaluated.\n",
    "\n",
    "Statement is an instruction that the python interpreter can execute.\n",
    "\n"
   ]
  },
  {
   "cell_type": "markdown",
   "id": "c90c367e",
   "metadata": {},
   "source": [
    "# 6 After running the following code, what does the variable bacon contain?bacon = 22   bacon + 1"
   ]
  },
  {
   "cell_type": "code",
   "execution_count": 3,
   "id": "6b4ef2f4",
   "metadata": {},
   "outputs": [
    {
     "data": {
      "text/plain": [
       "23"
      ]
     },
     "execution_count": 3,
     "metadata": {},
     "output_type": "execute_result"
    }
   ],
   "source": [
    "bacon = 22\n",
    "bacon +1"
   ]
  },
  {
   "cell_type": "markdown",
   "id": "e2445656",
   "metadata": {},
   "source": [
    "# 7 What should the values of the following two terms be?\n",
    "\n",
    "&#39;spam&#39; + &#39;spamspam&#39;\n",
    "&#39;spam&#39; * 3"
   ]
  },
  {
   "cell_type": "code",
   "execution_count": 4,
   "id": "256639e7",
   "metadata": {},
   "outputs": [
    {
     "data": {
      "text/plain": [
       "'spamspamspam'"
      ]
     },
     "execution_count": 4,
     "metadata": {},
     "output_type": "execute_result"
    }
   ],
   "source": [
    "'spam'+'spamspam'"
   ]
  },
  {
   "cell_type": "code",
   "execution_count": 5,
   "id": "dd92c5cb",
   "metadata": {},
   "outputs": [
    {
     "data": {
      "text/plain": [
       "'spamspamspam'"
      ]
     },
     "execution_count": 5,
     "metadata": {},
     "output_type": "execute_result"
    }
   ],
   "source": [
    "'spam'*3"
   ]
  },
  {
   "cell_type": "markdown",
   "id": "c01f61c2",
   "metadata": {},
   "source": [
    "# 8 Why is eggs a valid variable name while 100 is invalid?"
   ]
  },
  {
   "cell_type": "code",
   "execution_count": null,
   "id": "6d341c1b",
   "metadata": {},
   "outputs": [],
   "source": [
    "Because we cannot  start giving variable an integer name. we should start our string with alphabet then integer. "
   ]
  },
  {
   "cell_type": "markdown",
   "id": "c99f6943",
   "metadata": {},
   "source": [
    "# 9 What three functions can be used to get the integer, floating-point number, or string version of a value?"
   ]
  },
  {
   "cell_type": "code",
   "execution_count": null,
   "id": "693c43fb",
   "metadata": {},
   "outputs": [],
   "source": [
    "For string str()\n",
    "For integer int()\n",
    "For floating point number float()"
   ]
  },
  {
   "cell_type": "markdown",
   "id": "3908da91",
   "metadata": {},
   "source": [
    "# 10Why does this expression cause an error? How can you fix it?\n",
    "'I have eaten'+ 99 +'burritos'"
   ]
  },
  {
   "cell_type": "code",
   "execution_count": 11,
   "id": "01b5ae2f",
   "metadata": {},
   "outputs": [
    {
     "data": {
      "text/plain": [
       "'I have eaten99burritos'"
      ]
     },
     "execution_count": 11,
     "metadata": {},
     "output_type": "execute_result"
    }
   ],
   "source": [
    "'I have eaten'+str(99)+'burritos'  # because 99 is an integer it cannot be concatenated with strings, if we have to concatenate it we need to do typecasting."
   ]
  },
  {
   "cell_type": "code",
   "execution_count": null,
   "id": "bedefbe9",
   "metadata": {},
   "outputs": [],
   "source": []
  },
  {
   "cell_type": "code",
   "execution_count": null,
   "id": "74af4418",
   "metadata": {},
   "outputs": [],
   "source": []
  },
  {
   "cell_type": "code",
   "execution_count": null,
   "id": "fb5b9c5d",
   "metadata": {},
   "outputs": [],
   "source": []
  }
 ],
 "metadata": {
  "kernelspec": {
   "display_name": "Python 3 (ipykernel)",
   "language": "python",
   "name": "python3"
  },
  "language_info": {
   "codemirror_mode": {
    "name": "ipython",
    "version": 3
   },
   "file_extension": ".py",
   "mimetype": "text/x-python",
   "name": "python",
   "nbconvert_exporter": "python",
   "pygments_lexer": "ipython3",
   "version": "3.9.7"
  }
 },
 "nbformat": 4,
 "nbformat_minor": 5
}
